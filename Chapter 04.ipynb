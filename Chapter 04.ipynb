{
 "cells": [
  {
   "cell_type": "code",
   "execution_count": 1,
   "metadata": {},
   "outputs": [
    {
     "name": "stdout",
     "output_type": "stream",
     "text": [
      "ComputerScience\n",
      "Darwin's\n",
      "H20H20H20\n",
      "\n"
     ]
    }
   ],
   "source": [
    "# 1. Evaluate each of the following\n",
    "print('Computer' + 'Science')\n",
    "print('Darwin\\'s')\n",
    "print('H20' * 3)\n",
    "print('C02' * 0)"
   ]
  },
  {
   "cell_type": "code",
   "execution_count": 2,
   "metadata": {},
   "outputs": [
    {
     "name": "stdout",
     "output_type": "stream",
     "text": [
      "They'll hibernate during the winter.\n",
      "\"Absolutely not,\" he said.\n",
      "\"He said, 'Absolutely not,'\" recalled Mel.\n",
      "hydrogen sulfide\n",
      "left\\right\n"
     ]
    }
   ],
   "source": [
    "# 2. Express each string below\n",
    "print(\"They'll hibernate during the winter.\")\n",
    "print('\"Absolutely not,\" he said.')\n",
    "print('\"He said, \\'Absolutely not,\\'\" recalled Mel.')\n",
    "print('hydrogen sulfide')\n",
    "print('left\\\\right')"
   ]
  },
  {
   "cell_type": "code",
   "execution_count": 4,
   "metadata": {},
   "outputs": [
    {
     "name": "stdout",
     "output_type": "stream",
     "text": [
      "A\n",
      "B\n",
      "C\n",
      "A\n",
      "B\n",
      "C\n"
     ]
    }
   ],
   "source": [
    "# 3. Rewrite this without triple quotes\n",
    "print('''A\n",
    "B\n",
    "C''')\n",
    "print(\"A\\nB\\nC\")"
   ]
  },
  {
   "cell_type": "code",
   "execution_count": 5,
   "metadata": {},
   "outputs": [
    {
     "name": "stdout",
     "output_type": "stream",
     "text": [
      "0\n"
     ]
    }
   ],
   "source": [
    "# 4. Use built-in len to find len of empty string\n",
    "print(len(''))"
   ]
  },
  {
   "cell_type": "code",
   "execution_count": 12,
   "metadata": {},
   "outputs": [
    {
     "name": "stdout",
     "output_type": "stream",
     "text": [
      "The rabbit is 3.\n",
      "The rabbit is 3 years old.\n",
      "12.5  is average.\n",
      "12.5 * 3\n",
      "12.5 * 3 is 37.5.\n"
     ]
    }
   ],
   "source": [
    "# 5. String concat\n",
    "x = 3\n",
    "y = 12.5\n",
    "print(\"The rabbit is \", x, \".\", sep='')\n",
    "print(\"The rabbit is\", x, \"years old.\")\n",
    "print(y, \" is average.\")\n",
    "print(y, \"*\", x)\n",
    "print(y ,\" * \", x, \" is \", y * x, \".\", sep='')"
   ]
  },
  {
   "cell_type": "code",
   "execution_count": 13,
   "metadata": {},
   "outputs": [
    {
     "name": "stdout",
     "output_type": "stream",
     "text": [
      "Doe, John\n"
     ]
    }
   ],
   "source": [
    "# 6. Consider this code\n",
    "first = 'John'\n",
    "last = 'Doe'\n",
    "print(last + ', ' + first)"
   ]
  },
  {
   "cell_type": "code",
   "execution_count": 14,
   "metadata": {},
   "outputs": [
    {
     "name": "stdout",
     "output_type": "stream",
     "text": [
      "3.1\n",
      "3.1\n"
     ]
    }
   ],
   "source": [
    "# 7. Demo number input\n",
    "num = input()\n",
    "print(num)"
   ]
  },
  {
   "cell_type": "code",
   "execution_count": 17,
   "metadata": {},
   "outputs": [
    {
     "name": "stdout",
     "output_type": "stream",
     "text": [
      "yesyesyesyes\n",
      "\n",
      "\n",
      "yesnomaybeyesnomaybeyesnomaybe\n"
     ]
    }
   ],
   "source": [
    "# 8. Complete the examples and write body\n",
    "def repeat(s: str, n: int) -> str:\n",
    "    \"\"\" Return s repeated n times; if n is negative, return the empty string.\n",
    "        >>> repeat('yes', 4)\n",
    "        'yesyesyesyes'\n",
    "        >>> repeat('no', 0)\n",
    "        ''\n",
    "        >>> repeat('no', -2)\n",
    "        ''\n",
    "        >>> repeat('yesnomaybe', 3)\n",
    "        'yesnomaybeyesnomaybeyesnomaybe'\n",
    "    \"\"\"\n",
    "    retval = ''\n",
    "    if n > 0:\n",
    "        retval = s * n\n",
    "    return retval\n",
    "print(repeat('yes', 4))\n",
    "print(repeat('no', 0))\n",
    "print(repeat('no', -2))\n",
    "print(repeat('yesnomaybe', 3))"
   ]
  },
  {
   "cell_type": "code",
   "execution_count": 19,
   "metadata": {},
   "outputs": [
    {
     "name": "stdout",
     "output_type": "stream",
     "text": [
      "5\n",
      "3\n",
      "14\n"
     ]
    }
   ],
   "source": [
    "# 9. Complete examples and write body\n",
    "def total_length(s1: str, s2: str) -> int:\n",
    "    \"\"\" Return the sum of the lengths of s1 and s2.\n",
    "        >>> total_length('yes', 'no')\n",
    "        5\n",
    "        >>> total_length('yes', '')\n",
    "        3\n",
    "        >>> total_length('YES!!!!', 'Noooooo')\n",
    "        14\n",
    "    \"\"\"\n",
    "    return len(s1 + s2)\n",
    "print(total_length('yes', 'no'))\n",
    "print(total_length('yes', ''))\n",
    "print(total_length('YES!!!!', 'Noooooo'))"
   ]
  }
 ],
 "metadata": {
  "kernelspec": {
   "display_name": "Python 3",
   "language": "python",
   "name": "python3"
  },
  "language_info": {
   "codemirror_mode": {
    "name": "ipython",
    "version": 3
   },
   "file_extension": ".py",
   "mimetype": "text/x-python",
   "name": "python",
   "nbconvert_exporter": "python",
   "pygments_lexer": "ipython3",
   "version": "3.7.4"
  }
 },
 "nbformat": 4,
 "nbformat_minor": 2
}
