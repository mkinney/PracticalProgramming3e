{
 "cells": [
  {
   "cell_type": "markdown",
   "metadata": {},
   "source": [
    "Chapter 3 Exercises"
   ]
  },
  {
   "cell_type": "markdown",
   "metadata": {},
   "source": [
    "1. Evaluate:"
   ]
  },
  {
   "cell_type": "code",
   "execution_count": null,
   "metadata": {},
   "outputs": [],
   "source": [
    "min(2, 3, 4)"
   ]
  },
  {
   "cell_type": "code",
   "execution_count": null,
   "metadata": {},
   "outputs": [],
   "source": [
    "max(2, -3, 4, 7, -5)"
   ]
  },
  {
   "cell_type": "code",
   "execution_count": null,
   "metadata": {},
   "outputs": [],
   "source": [
    "max(2, -3, min(4, 7), -5)"
   ]
  },
  {
   "cell_type": "markdown",
   "metadata": {},
   "source": [
    "2. Order of evaluations:\n",
    "\n",
    "a. min(max(3, 4), abs(-5))\n",
    "\n",
    "b. abs(min(4, 6, max(2, 8)))\n",
    "\n",
    "c. round(max(5.572, 3.258), abs(-2))"
   ]
  },
  {
   "cell_type": "code",
   "execution_count": 4,
   "metadata": {},
   "outputs": [
    {
     "name": "stdout",
     "output_type": "stream",
     "text": [
      "9\n"
     ]
    }
   ],
   "source": [
    "# 3. Triple a number\n",
    "def triple(x: int) -> int:\n",
    "    \"\"\"Return triple the value of a number.\n",
    "    >>>> triple(3)\n",
    "    9\n",
    "    >>>> triple(1)\n",
    "    3\n",
    "    \"\"\"\n",
    "    return x * 3\n",
    "print(triple(3))"
   ]
  },
  {
   "cell_type": "code",
   "execution_count": 5,
   "metadata": {},
   "outputs": [
    {
     "name": "stdout",
     "output_type": "stream",
     "text": [
      "1\n",
      "3\n"
     ]
    }
   ],
   "source": [
    "# 4. Return absolute value of difference\n",
    "def abs_diff(x: int, y: int) -> int:\n",
    "    \"\"\"Return the absolute value of the \n",
    "    difference of two numbers\"\"\"\n",
    "    return abs(x - y)\n",
    "print(abs_diff(1, 2))\n",
    "print(abs_diff(1, -2))"
   ]
  },
  {
   "cell_type": "code",
   "execution_count": 6,
   "metadata": {},
   "outputs": [
    {
     "name": "stdout",
     "output_type": "stream",
     "text": [
      "16.0\n"
     ]
    }
   ],
   "source": [
    "# 5. KtoMiles\n",
    "def k_to_miles(k: float) -> float:\n",
    "    \"\"\"Convert kilometers to miles\"\"\"\n",
    "    return k * 1.6\n",
    "print(k_to_miles(10))"
   ]
  },
  {
   "cell_type": "code",
   "execution_count": 9,
   "metadata": {},
   "outputs": [
    {
     "name": "stdout",
     "output_type": "stream",
     "text": [
      "74.0\n"
     ]
    }
   ],
   "source": [
    "# 6. Average of 3 grades\n",
    "def avg_three_grades(a: int, b: int, c: int) -> float:\n",
    "    \"\"\"Average of three grades\"\"\"\n",
    "    return (a + b + c) / 3.0\n",
    "print(avg_three_grades(70, 83, 69))"
   ]
  },
  {
   "cell_type": "code",
   "execution_count": 12,
   "metadata": {},
   "outputs": [
    {
     "name": "stdout",
     "output_type": "stream",
     "text": [
      "74.0\n"
     ]
    }
   ],
   "source": [
    "# 7. Average of best 3 grades\n",
    "def avg_best_three_grades(a: int, b: int, c: int, d: int) -> float:\n",
    "    \"\"\"Average of the best of 3 grades\"\"\"\n",
    "    lowest = min(a, b, c, d)\n",
    "    return (a + b + c + d - lowest) / 3.0\n",
    "print(avg_best_three_grades(70, 83, 69, 66))"
   ]
  },
  {
   "cell_type": "code",
   "execution_count": 15,
   "metadata": {},
   "outputs": [
    {
     "name": "stdout",
     "output_type": "stream",
     "text": [
      "2\n",
      "2\n",
      "0\n",
      "3\n"
     ]
    }
   ],
   "source": [
    "# 8. Write weeks_elapsed\n",
    "def weeks_elapsed(day1: int, day2: int) -> int:\n",
    "    \"\"\"day1 and day2 are days in the same year. Return the number of full weeks\n",
    "        that have elapsed between the two days.\n",
    "        >>> weeks_elapsed(3, 20)\n",
    "        2\n",
    "        >>> weeks_elapsed(20, 3)\n",
    "        2\n",
    "        >>> weeks_elapsed(8, 5)\n",
    "        0\n",
    "        >>> weeks_elapsed(40, 61)\n",
    "        3\n",
    "    \"\"\"\n",
    "    weeks = 0\n",
    "    day_diff = abs(day1 - day2)\n",
    "    weeks = day_diff // 7\n",
    "    return weeks\n",
    "print(weeks_elapsed(3, 20))\n",
    "print(weeks_elapsed(20, 3))\n",
    "print(weeks_elapsed(8, 5))\n",
    "print(weeks_elapsed(40, 61))"
   ]
  },
  {
   "cell_type": "code",
   "execution_count": 17,
   "metadata": {},
   "outputs": [],
   "source": [
    "# 9. Consider this code\n",
    "def square(num):\n",
    "    \"\"\" (number) -> number\n",
    "        Return the square of num.\n",
    "        >>> square(3)\n",
    "        9\n",
    "    \"\"\""
   ]
  },
  {
   "cell_type": "markdown",
   "metadata": {},
   "source": [
    "Parameter: num\n",
    "Argument: 3\n",
    "Function name: squre\n",
    "Function call: square(3)"
   ]
  },
  {
   "cell_type": "code",
   "execution_count": 18,
   "metadata": {},
   "outputs": [
    {
     "name": "stdout",
     "output_type": "stream",
     "text": [
      "9\n"
     ]
    }
   ],
   "source": [
    "# 10. Write the square function\n",
    "def square(num: int) -> int:\n",
    "    \"\"\" (number) -> number\n",
    "        Return the square of num.\n",
    "        >>> square(3)\n",
    "        9\n",
    "    \"\"\"\n",
    "    return num * num\n",
    "print(square(3))"
   ]
  }
 ],
 "metadata": {
  "kernelspec": {
   "display_name": "Python 3",
   "language": "python",
   "name": "python3"
  },
  "language_info": {
   "codemirror_mode": {
    "name": "ipython",
    "version": 3
   },
   "file_extension": ".py",
   "mimetype": "text/x-python",
   "name": "python",
   "nbconvert_exporter": "python",
   "pygments_lexer": "ipython3",
   "version": "3.7.4"
  }
 },
 "nbformat": 4,
 "nbformat_minor": 2
}
